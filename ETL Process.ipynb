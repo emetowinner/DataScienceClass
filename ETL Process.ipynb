{
 "cells": [
  {
   "cell_type": "markdown",
   "metadata": {},
   "source": [
    "#  SQLITE3 Data Source"
   ]
  },
  {
   "cell_type": "code",
   "execution_count": 1,
   "metadata": {},
   "outputs": [],
   "source": [
    "import sqlite3\n",
    "import mysql.connector\n",
    "import pymongo\n",
    "import pandas as pd"
   ]
  },
  {
   "cell_type": "code",
   "execution_count": 2,
   "metadata": {},
   "outputs": [],
   "source": [
    "con = sqlite3.connect('employees.db')"
   ]
  },
  {
   "cell_type": "code",
   "execution_count": 3,
   "metadata": {},
   "outputs": [],
   "source": [
    "cursor = con.cursor()"
   ]
  },
  {
   "cell_type": "code",
   "execution_count": 4,
   "metadata": {},
   "outputs": [],
   "source": [
    "cursor.execute(\"CREATE TABLE HR(id integer PRIMARY KEY, name text, status text, salary real, department text, position text, hireDate text)\")\n",
    "con.commit()"
   ]
  },
  {
   "cell_type": "code",
   "execution_count": 5,
   "metadata": {},
   "outputs": [
    {
     "name": "stdout",
     "output_type": "stream",
     "text": [
      "Enter your ID: 1\n",
      "Enter your name: Winner Emeto\n",
      "Enter your status: Yes\n",
      "Enter your salary: 500\n",
      "Enter your department: HR\n",
      "Enter your position: MG\n",
      "Enter date \"YYYY-M-D\": 2021-07-8\n",
      "Data has been inserted!!!\n",
      "Do you want to continue?\n",
      "Enter 1 to continue and 0 to quit1\n",
      "Enter your ID: 2\n",
      "Enter your name: Emeto Winner\n",
      "Enter your status: NO\n",
      "Enter your salary: 700\n",
      "Enter your department: IT\n",
      "Enter your position: HR\n",
      "Enter date \"YYYY-M-D\": 2021-07-8\n",
      "Data has been inserted!!!\n",
      "Do you want to continue?\n",
      "Enter 1 to continue and 0 to quit1\n",
      "Enter your ID: 3\n",
      "Enter your name: Joy\n",
      "Enter your status: Yes\n",
      "Enter your salary: 1500\n",
      "Enter your department: IT\n",
      "Enter your position: IT\n",
      "Enter date \"YYYY-M-D\": 2021-07-9\n",
      "Data has been inserted!!!\n",
      "Do you want to continue?\n",
      "Enter 1 to continue and 0 to quit1\n",
      "Enter your ID: 4\n",
      "Enter your name: Mercy\n",
      "Enter your status: Yes\n",
      "Enter your salary: 2000\n",
      "Enter your department: HR\n",
      "Enter your position: IT\n",
      "Enter date \"YYYY-M-D\": 2021-07-3\n",
      "Data has been inserted!!!\n",
      "Do you want to continue?\n",
      "Enter 1 to continue and 0 to quit1\n",
      "Enter your ID: 5\n",
      "Enter your name: Kate\n",
      "Enter your status: No\n",
      "Enter your salary: 3000\n",
      "Enter your department: HR\n",
      "Enter your position: IT\n",
      "Enter date \"YYYY-M-D\": 2021-07-5\n",
      "Data has been inserted!!!\n",
      "Do you want to continue?\n",
      "Enter 1 to continue and 0 to quit0\n",
      "Thank you!!\n"
     ]
    }
   ],
   "source": [
    "counter = True\n",
    "while counter:\n",
    "    user_id = int(input('Enter your ID: '))\n",
    "    name = input('Enter your name: ')\n",
    "    status = input('Enter your status: ')\n",
    "    salary = float(input('Enter your salary: '))\n",
    "    department = input('Enter your department: ')\n",
    "    position = input('Enter your position: ')\n",
    "    date = input('Enter date \"YYYY-M-D\": ')\n",
    "    entities = (user_id,name,status,salary,department,position,date)\n",
    "    cursor.execute(\"INSERT INTO HR(id,name,status,salary,department,position,hireDate) VALUES(?,?,?,?,?,?,?)\",entities)\n",
    "    con.commit()\n",
    "    print('Data has been inserted!!!')\n",
    "    print('Do you want to continue?')\n",
    "    value = int(input(\"Enter 1 to continue and 0 to quit\"))\n",
    "    if value == 1:\n",
    "        pass\n",
    "    elif value == 0:\n",
    "        print('Thank you!!')\n",
    "        counter = False\n",
    "    else:\n",
    "        break\n",
    "\n"
   ]
  },
  {
   "cell_type": "code",
   "execution_count": 6,
   "metadata": {},
   "outputs": [],
   "source": [
    "cursor.execute('SELECT * FROM HR')\n",
    "rows = cursor.fetchall()"
   ]
  },
  {
   "cell_type": "code",
   "execution_count": null,
   "metadata": {},
   "outputs": [],
   "source": [
    "for row in rows:\n",
    "    print(row)\n",
    "    print(row[0])"
   ]
  },
  {
   "cell_type": "code",
   "execution_count": 7,
   "metadata": {},
   "outputs": [],
   "source": [
    "mylist = []"
   ]
  },
  {
   "cell_type": "code",
   "execution_count": 8,
   "metadata": {},
   "outputs": [],
   "source": [
    "for row in rows:\n",
    "    mylist.append({'id':row[0], 'name':row[1], 'status':row[2], 'salary':row[3], 'department':row[4], 'position':row[5], 'data':row[6]})"
   ]
  },
  {
   "cell_type": "code",
   "execution_count": 9,
   "metadata": {},
   "outputs": [
    {
     "name": "stdout",
     "output_type": "stream",
     "text": [
      "[{'id': 1, 'name': 'Winner Emeto', 'status': 'Yes', 'salary': 500.0, 'department': 'HR', 'position': 'MG', 'data': '2021-07-8'}, {'id': 2, 'name': 'Emeto Winner', 'status': 'NO', 'salary': 700.0, 'department': 'IT', 'position': 'HR', 'data': '2021-07-8'}, {'id': 3, 'name': 'Joy', 'status': 'Yes', 'salary': 1500.0, 'department': 'IT', 'position': 'IT', 'data': '2021-07-9'}, {'id': 4, 'name': 'Mercy', 'status': 'Yes', 'salary': 2000.0, 'department': 'HR', 'position': 'IT', 'data': '2021-07-3'}, {'id': 5, 'name': 'Kate', 'status': 'No', 'salary': 3000.0, 'department': 'HR', 'position': 'IT', 'data': '2021-07-5'}]\n"
     ]
    }
   ],
   "source": [
    "print(mylist)"
   ]
  },
  {
   "cell_type": "code",
   "execution_count": 10,
   "metadata": {},
   "outputs": [],
   "source": [
    "sqlite3_df = pd.DataFrame(mylist)"
   ]
  },
  {
   "cell_type": "code",
   "execution_count": 11,
   "metadata": {},
   "outputs": [
    {
     "name": "stdout",
     "output_type": "stream",
     "text": [
      "   id          name status  salary department position       data\n",
      "0   1  Winner Emeto    Yes   500.0         HR       MG  2021-07-8\n",
      "1   2  Emeto Winner     NO   700.0         IT       HR  2021-07-8\n",
      "2   3           Joy    Yes  1500.0         IT       IT  2021-07-9\n",
      "3   4         Mercy    Yes  2000.0         HR       IT  2021-07-3\n",
      "4   5          Kate     No  3000.0         HR       IT  2021-07-5\n"
     ]
    }
   ],
   "source": [
    "print(sqlite3_df)"
   ]
  },
  {
   "cell_type": "markdown",
   "metadata": {},
   "source": [
    "# MYSQL Data Source"
   ]
  },
  {
   "cell_type": "code",
   "execution_count": null,
   "metadata": {},
   "outputs": [],
   "source": [
    "mydb = mysql.connector.connect(host=\"localhost\",user=\"root\",password=\"\")"
   ]
  },
  {
   "cell_type": "code",
   "execution_count": 13,
   "metadata": {},
   "outputs": [],
   "source": [
    "cursor = mydb.cursor()"
   ]
  },
  {
   "cell_type": "code",
   "execution_count": null,
   "metadata": {},
   "outputs": [],
   "source": [
    "cursor.execute(\"CREATE DATABASE employees\")"
   ]
  },
  {
   "cell_type": "code",
   "execution_count": 12,
   "metadata": {},
   "outputs": [],
   "source": [
    "mydb = mysql.connector.connect(host=\"localhost\",user=\"root\",password=\"\",database=\"employees\")"
   ]
  },
  {
   "cell_type": "code",
   "execution_count": null,
   "metadata": {},
   "outputs": [],
   "source": [
    "cursor.execute(\"CREATE TABLE IT (id INT AUTO_INCREMENT PRIMARY KEY, name VARCHAR(255), status VARCHAR(255), salary INT, department VARCHAR(255), position VARCHAR(255), high_date VARCHAR(255))\")\n",
    "mydb.commit()"
   ]
  },
  {
   "cell_type": "code",
   "execution_count": 14,
   "metadata": {},
   "outputs": [
    {
     "name": "stdout",
     "output_type": "stream",
     "text": [
      "Enter your name: Winner Emeto\n",
      "Enter your statusYes\n",
      "Enter your salary: 5000\n",
      "Enter your department: IT\n",
      "Enter your position: MG\n",
      "Enter date \"YYYY-M-D\": 2021-07-8\n",
      "Data has been inserted!!!\n",
      "Do you want to continue?\n",
      "Enter 1 to continue and 0 to quit1\n",
      "Enter your name: Emeto Winner\n",
      "Enter your statusYES\n",
      "Enter your salary: 4500\n",
      "Enter your department: IT\n",
      "Enter your position: HR\n",
      "Enter date \"YYYY-M-D\": 2021-07-6\n",
      "Data has been inserted!!!\n",
      "Do you want to continue?\n",
      "Enter 1 to continue and 0 to quit1\n",
      "Enter your name: Lilian\n",
      "Enter your statusYES\n",
      "Enter your salary: 6000\n",
      "Enter your department: HR\n",
      "Enter your position: MG\n",
      "Enter date \"YYYY-M-D\": 2021-07-8\n",
      "Data has been inserted!!!\n",
      "Do you want to continue?\n",
      "Enter 1 to continue and 0 to quit1\n",
      "Enter your name: Kate\n",
      "Enter your statusNo\n",
      "Enter your salary: 3000\n",
      "Enter your department: HR\n",
      "Enter your position: IT\n",
      "Enter date \"YYYY-M-D\": 2021-07-5\n",
      "Data has been inserted!!!\n",
      "Do you want to continue?\n",
      "Enter 1 to continue and 0 to quit1\n",
      "Enter your name: Mercy\n",
      "Enter your statusNO\n",
      "Enter your salary: 2000\n",
      "Enter your department: HR\n",
      "Enter your position: MG\n",
      "Enter date \"YYYY-M-D\": 2021-07-1\n",
      "Data has been inserted!!!\n",
      "Do you want to continue?\n",
      "Enter 1 to continue and 0 to quit1\n",
      "Enter your name: John\n",
      "Enter your statusYES\n",
      "Enter your salary: 1000\n",
      "Enter your department: HR\n",
      "Enter your position: IT\n",
      "Enter date \"YYYY-M-D\": 2021-07-3\n",
      "Data has been inserted!!!\n",
      "Do you want to continue?\n",
      "Enter 1 to continue and 0 to quit0\n",
      "Thank you!!\n"
     ]
    }
   ],
   "source": [
    "counter = True\n",
    "while counter:\n",
    "    name = input('Enter your name: ')\n",
    "    status = input('Enter your status')\n",
    "    salary = int(input('Enter your salary: '))\n",
    "    department = input('Enter your department: ')\n",
    "    position = input('Enter your position: ')\n",
    "    date = input('Enter date \"YYYY-M-D\": ')\n",
    "    vals = (name,status,salary,department,position,date)\n",
    "    sql = \"INSERT INTO IT(name,status,salary,department,position,high_date) VALUES(%s,%s,%s,%s,%s,%s)\"\n",
    "    cursor.execute(sql,vals)\n",
    "    mydb.commit()\n",
    "    print('Data has been inserted!!!')\n",
    "    print('Do you want to continue?')\n",
    "    value = int(input(\"Enter 1 to continue and 0 to quit\"))\n",
    "    if value == 1:\n",
    "        pass\n",
    "    elif value == 0:\n",
    "        print('Thank you!!')\n",
    "        counter = False\n",
    "    else:\n",
    "        break"
   ]
  },
  {
   "cell_type": "code",
   "execution_count": 15,
   "metadata": {},
   "outputs": [],
   "source": [
    "cursor.execute(\"SELECT * FROM IT\")\n",
    "rows = cursor.fetchall()"
   ]
  },
  {
   "cell_type": "code",
   "execution_count": 16,
   "metadata": {},
   "outputs": [],
   "source": [
    "mylist = []"
   ]
  },
  {
   "cell_type": "code",
   "execution_count": 17,
   "metadata": {},
   "outputs": [],
   "source": [
    "for row in rows:\n",
    "    mylist.append({'id':row[0], 'name':row[1], 'status':row[2], 'salary':row[3], 'department':row[4], 'position':row[5], 'data':row[6]})"
   ]
  },
  {
   "cell_type": "code",
   "execution_count": 18,
   "metadata": {},
   "outputs": [
    {
     "data": {
      "text/html": [
       "<div>\n",
       "<style scoped>\n",
       "    .dataframe tbody tr th:only-of-type {\n",
       "        vertical-align: middle;\n",
       "    }\n",
       "\n",
       "    .dataframe tbody tr th {\n",
       "        vertical-align: top;\n",
       "    }\n",
       "\n",
       "    .dataframe thead th {\n",
       "        text-align: right;\n",
       "    }\n",
       "</style>\n",
       "<table border=\"1\" class=\"dataframe\">\n",
       "  <thead>\n",
       "    <tr style=\"text-align: right;\">\n",
       "      <th></th>\n",
       "      <th>id</th>\n",
       "      <th>name</th>\n",
       "      <th>status</th>\n",
       "      <th>salary</th>\n",
       "      <th>department</th>\n",
       "      <th>position</th>\n",
       "      <th>data</th>\n",
       "    </tr>\n",
       "  </thead>\n",
       "  <tbody>\n",
       "    <tr>\n",
       "      <th>0</th>\n",
       "      <td>1</td>\n",
       "      <td>winner</td>\n",
       "      <td>yes</td>\n",
       "      <td>400</td>\n",
       "      <td>hr</td>\n",
       "      <td>it</td>\n",
       "      <td>2021-07-7</td>\n",
       "    </tr>\n",
       "    <tr>\n",
       "      <th>1</th>\n",
       "      <td>2</td>\n",
       "      <td>Winner Emeto</td>\n",
       "      <td>Yes</td>\n",
       "      <td>5000</td>\n",
       "      <td>IT</td>\n",
       "      <td>MG</td>\n",
       "      <td>2021-07-8</td>\n",
       "    </tr>\n",
       "    <tr>\n",
       "      <th>2</th>\n",
       "      <td>3</td>\n",
       "      <td>Emeto Winner</td>\n",
       "      <td>YES</td>\n",
       "      <td>4500</td>\n",
       "      <td>IT</td>\n",
       "      <td>HR</td>\n",
       "      <td>2021-07-6</td>\n",
       "    </tr>\n",
       "    <tr>\n",
       "      <th>3</th>\n",
       "      <td>4</td>\n",
       "      <td>Lilian</td>\n",
       "      <td>YES</td>\n",
       "      <td>6000</td>\n",
       "      <td>HR</td>\n",
       "      <td>MG</td>\n",
       "      <td>2021-07-8</td>\n",
       "    </tr>\n",
       "    <tr>\n",
       "      <th>4</th>\n",
       "      <td>5</td>\n",
       "      <td>Kate</td>\n",
       "      <td>No</td>\n",
       "      <td>3000</td>\n",
       "      <td>HR</td>\n",
       "      <td>IT</td>\n",
       "      <td>2021-07-5</td>\n",
       "    </tr>\n",
       "    <tr>\n",
       "      <th>5</th>\n",
       "      <td>6</td>\n",
       "      <td>Mercy</td>\n",
       "      <td>NO</td>\n",
       "      <td>2000</td>\n",
       "      <td>HR</td>\n",
       "      <td>MG</td>\n",
       "      <td>2021-07-1</td>\n",
       "    </tr>\n",
       "    <tr>\n",
       "      <th>6</th>\n",
       "      <td>7</td>\n",
       "      <td>John</td>\n",
       "      <td>YES</td>\n",
       "      <td>1000</td>\n",
       "      <td>HR</td>\n",
       "      <td>IT</td>\n",
       "      <td>2021-07-3</td>\n",
       "    </tr>\n",
       "  </tbody>\n",
       "</table>\n",
       "</div>"
      ],
      "text/plain": [
       "   id          name status  salary department position       data\n",
       "0   1        winner    yes     400         hr       it  2021-07-7\n",
       "1   2  Winner Emeto    Yes    5000         IT       MG  2021-07-8\n",
       "2   3  Emeto Winner    YES    4500         IT       HR  2021-07-6\n",
       "3   4        Lilian    YES    6000         HR       MG  2021-07-8\n",
       "4   5          Kate     No    3000         HR       IT  2021-07-5\n",
       "5   6         Mercy     NO    2000         HR       MG  2021-07-1\n",
       "6   7          John    YES    1000         HR       IT  2021-07-3"
      ]
     },
     "execution_count": 18,
     "metadata": {},
     "output_type": "execute_result"
    }
   ],
   "source": [
    "mysql_df = pd.DataFrame(mylist)\n",
    "mysql_df"
   ]
  },
  {
   "cell_type": "markdown",
   "metadata": {},
   "source": [
    "# Mongo Data Source"
   ]
  },
  {
   "cell_type": "code",
   "execution_count": 19,
   "metadata": {},
   "outputs": [],
   "source": [
    "myclient = pymongo.MongoClient('mongodb://localhost:27017') #initializing a mongodb connection"
   ]
  },
  {
   "cell_type": "code",
   "execution_count": 20,
   "metadata": {},
   "outputs": [],
   "source": [
    "mydb = myclient['employees'] #createsadatabase called mydatabase"
   ]
  },
  {
   "cell_type": "code",
   "execution_count": 21,
   "metadata": {},
   "outputs": [],
   "source": [
    "mycol = mydb['transactions'] #creates a table(collection) called customers"
   ]
  },
  {
   "cell_type": "code",
   "execution_count": null,
   "metadata": {},
   "outputs": [],
   "source": [
    "columns = [\"id\",\"name\",\"product\",\"amount\",\"saleprice\",\"status\",\"date\"]"
   ]
  },
  {
   "cell_type": "code",
   "execution_count": 22,
   "metadata": {},
   "outputs": [
    {
     "name": "stdout",
     "output_type": "stream",
     "text": [
      "Id: 001\n",
      "Name: Winner Emeto\n",
      "Product: Laptop\n",
      "Amount: 1\n",
      "Saleprice: 1500\n",
      "Status: Sold\n",
      "Date YYYY-M-D: 2021-07-8\n",
      "Data has been inserted!!!\n",
      "Do you want to continue?\n",
      "Enter 1 to continue and 0 to quit: 1\n",
      "Id: 002\n",
      "Name: Shoe\n",
      "Product: Shoe\n",
      "Amount: 200\n",
      "Saleprice: 3000\n",
      "Status: Sold\n",
      "Date YYYY-M-D: 2021-07-4\n",
      "Data has been inserted!!!\n",
      "Do you want to continue?\n",
      "Enter 1 to continue and 0 to quit: 1\n",
      "Id: 003\n",
      "Name: Mercy\n",
      "Product: Shoe\n",
      "Amount: 3\n",
      "Saleprice: 3000\n",
      "Status: Sold\n",
      "Date YYYY-M-D: 2021-07-2\n",
      "Data has been inserted!!!\n",
      "Do you want to continue?\n",
      "Enter 1 to continue and 0 to quit: 1\n",
      "Id: 004\n",
      "Name: Kate\n",
      "Product: Bag\n",
      "Amount: 3000\n",
      "Saleprice: 1000000\n",
      "Status: Sold\n",
      "Date YYYY-M-D: 2021-07-1\n",
      "Data has been inserted!!!\n",
      "Do you want to continue?\n",
      "Enter 1 to continue and 0 to quit: 1\n",
      "Id: 005\n",
      "Name: Lilian\n",
      "Product: Hair\n",
      "Amount: 1500\n",
      "Saleprice: 1500000\n",
      "Status: Sold\n",
      "Date YYYY-M-D: 2021-07-9\n",
      "Data has been inserted!!!\n",
      "Do you want to continue?\n",
      "Enter 1 to continue and 0 to quit: 1\n",
      "Id: 006\n",
      "Name: Mary\n",
      "Product: Hype\n",
      "Amount: 2000000\n",
      "Saleprice: 5000000\n",
      "Status: Sold\n",
      "Date YYYY-M-D: 2021-07-3\n",
      "Data has been inserted!!!\n",
      "Do you want to continue?\n",
      "Enter 1 to continue and 0 to quit: 0\n",
      "Thank you!!\n"
     ]
    }
   ],
   "source": [
    "counter = True\n",
    "while counter:\n",
    "    user_id = input(\"Id: \")\n",
    "    name = input(\"Name: \")\n",
    "    product= input(\"Product: \")\n",
    "    amount = int(input(\"Amount: \"))\n",
    "    saleprice = float(input(\"Saleprice: \"))\n",
    "    status = input(\"Status: \")\n",
    "    date = input(\"Date YYYY-M-D: \")\n",
    "\n",
    "    mydict = {\"_id\":user_id,\"name\":name,\"product\":product,\"amount\":amount,\"saleprice\":saleprice,\"status\":status,\"date\":date}\n",
    "    x = mycol.insert_one(mydict)\n",
    "\n",
    "    print('Data has been inserted!!!')\n",
    "    print('Do you want to continue?')\n",
    "    value = int(input(\"Enter 1 to continue and 0 to quit: \"))\n",
    "    if value == 1:\n",
    "        pass\n",
    "    elif value == 0:\n",
    "        print('Thank you!!')\n",
    "        counter = False\n",
    "    else:\n",
    "        break"
   ]
  },
  {
   "cell_type": "code",
   "execution_count": 23,
   "metadata": {},
   "outputs": [
    {
     "data": {
      "text/plain": [
       "<pymongo.cursor.Cursor at 0x1a98e25eb20>"
      ]
     },
     "execution_count": 23,
     "metadata": {},
     "output_type": "execute_result"
    }
   ],
   "source": [
    "x = mycol.find()\n",
    "x"
   ]
  },
  {
   "cell_type": "code",
   "execution_count": 24,
   "metadata": {},
   "outputs": [],
   "source": [
    "mylist = []"
   ]
  },
  {
   "cell_type": "code",
   "execution_count": 25,
   "metadata": {},
   "outputs": [
    {
     "name": "stdout",
     "output_type": "stream",
     "text": [
      "{'_id': '001', 'name': 'Winner Emeto', 'product': 'Laptop', 'amount': 1, 'saleprice': 1500.0, 'status': 'Sold', 'date': '2021-07-8'}\n",
      "{'_id': '002', 'name': 'Shoe', 'product': 'Shoe', 'amount': 200, 'saleprice': 3000.0, 'status': 'Sold', 'date': '2021-07-4'}\n",
      "{'_id': '003', 'name': 'Mercy', 'product': 'Shoe', 'amount': 3, 'saleprice': 3000.0, 'status': 'Sold', 'date': '2021-07-2'}\n",
      "{'_id': '004', 'name': 'Kate', 'product': 'Bag', 'amount': 3000, 'saleprice': 1000000.0, 'status': 'Sold', 'date': '2021-07-1'}\n",
      "{'_id': '005', 'name': 'Lilian', 'product': 'Hair', 'amount': 1500, 'saleprice': 1500000.0, 'status': 'Sold', 'date': '2021-07-9'}\n",
      "{'_id': '006', 'name': 'Mary', 'product': 'Hype', 'amount': 2000000, 'saleprice': 5000000.0, 'status': 'Sold', 'date': '2021-07-3'}\n"
     ]
    }
   ],
   "source": [
    "for data in x:\n",
    "    mylist.append(data)\n",
    "    print(data)"
   ]
  },
  {
   "cell_type": "code",
   "execution_count": 26,
   "metadata": {},
   "outputs": [
    {
     "name": "stdout",
     "output_type": "stream",
     "text": [
      "[{'_id': '001', 'name': 'Winner Emeto', 'product': 'Laptop', 'amount': 1, 'saleprice': 1500.0, 'status': 'Sold', 'date': '2021-07-8'}, {'_id': '002', 'name': 'Shoe', 'product': 'Shoe', 'amount': 200, 'saleprice': 3000.0, 'status': 'Sold', 'date': '2021-07-4'}, {'_id': '003', 'name': 'Mercy', 'product': 'Shoe', 'amount': 3, 'saleprice': 3000.0, 'status': 'Sold', 'date': '2021-07-2'}, {'_id': '004', 'name': 'Kate', 'product': 'Bag', 'amount': 3000, 'saleprice': 1000000.0, 'status': 'Sold', 'date': '2021-07-1'}, {'_id': '005', 'name': 'Lilian', 'product': 'Hair', 'amount': 1500, 'saleprice': 1500000.0, 'status': 'Sold', 'date': '2021-07-9'}, {'_id': '006', 'name': 'Mary', 'product': 'Hype', 'amount': 2000000, 'saleprice': 5000000.0, 'status': 'Sold', 'date': '2021-07-3'}]\n"
     ]
    }
   ],
   "source": [
    "print(mylist)"
   ]
  },
  {
   "cell_type": "code",
   "execution_count": 27,
   "metadata": {},
   "outputs": [
    {
     "data": {
      "text/html": [
       "<div>\n",
       "<style scoped>\n",
       "    .dataframe tbody tr th:only-of-type {\n",
       "        vertical-align: middle;\n",
       "    }\n",
       "\n",
       "    .dataframe tbody tr th {\n",
       "        vertical-align: top;\n",
       "    }\n",
       "\n",
       "    .dataframe thead th {\n",
       "        text-align: right;\n",
       "    }\n",
       "</style>\n",
       "<table border=\"1\" class=\"dataframe\">\n",
       "  <thead>\n",
       "    <tr style=\"text-align: right;\">\n",
       "      <th></th>\n",
       "      <th>_id</th>\n",
       "      <th>name</th>\n",
       "      <th>product</th>\n",
       "      <th>amount</th>\n",
       "      <th>saleprice</th>\n",
       "      <th>status</th>\n",
       "      <th>date</th>\n",
       "    </tr>\n",
       "  </thead>\n",
       "  <tbody>\n",
       "    <tr>\n",
       "      <th>0</th>\n",
       "      <td>001</td>\n",
       "      <td>Winner Emeto</td>\n",
       "      <td>Laptop</td>\n",
       "      <td>1</td>\n",
       "      <td>1500.0</td>\n",
       "      <td>Sold</td>\n",
       "      <td>2021-07-8</td>\n",
       "    </tr>\n",
       "    <tr>\n",
       "      <th>1</th>\n",
       "      <td>002</td>\n",
       "      <td>Shoe</td>\n",
       "      <td>Shoe</td>\n",
       "      <td>200</td>\n",
       "      <td>3000.0</td>\n",
       "      <td>Sold</td>\n",
       "      <td>2021-07-4</td>\n",
       "    </tr>\n",
       "    <tr>\n",
       "      <th>2</th>\n",
       "      <td>003</td>\n",
       "      <td>Mercy</td>\n",
       "      <td>Shoe</td>\n",
       "      <td>3</td>\n",
       "      <td>3000.0</td>\n",
       "      <td>Sold</td>\n",
       "      <td>2021-07-2</td>\n",
       "    </tr>\n",
       "    <tr>\n",
       "      <th>3</th>\n",
       "      <td>004</td>\n",
       "      <td>Kate</td>\n",
       "      <td>Bag</td>\n",
       "      <td>3000</td>\n",
       "      <td>1000000.0</td>\n",
       "      <td>Sold</td>\n",
       "      <td>2021-07-1</td>\n",
       "    </tr>\n",
       "    <tr>\n",
       "      <th>4</th>\n",
       "      <td>005</td>\n",
       "      <td>Lilian</td>\n",
       "      <td>Hair</td>\n",
       "      <td>1500</td>\n",
       "      <td>1500000.0</td>\n",
       "      <td>Sold</td>\n",
       "      <td>2021-07-9</td>\n",
       "    </tr>\n",
       "    <tr>\n",
       "      <th>5</th>\n",
       "      <td>006</td>\n",
       "      <td>Mary</td>\n",
       "      <td>Hype</td>\n",
       "      <td>2000000</td>\n",
       "      <td>5000000.0</td>\n",
       "      <td>Sold</td>\n",
       "      <td>2021-07-3</td>\n",
       "    </tr>\n",
       "  </tbody>\n",
       "</table>\n",
       "</div>"
      ],
      "text/plain": [
       "   _id          name product   amount  saleprice status       date\n",
       "0  001  Winner Emeto  Laptop        1     1500.0   Sold  2021-07-8\n",
       "1  002          Shoe    Shoe      200     3000.0   Sold  2021-07-4\n",
       "2  003         Mercy    Shoe        3     3000.0   Sold  2021-07-2\n",
       "3  004          Kate     Bag     3000  1000000.0   Sold  2021-07-1\n",
       "4  005        Lilian    Hair     1500  1500000.0   Sold  2021-07-9\n",
       "5  006          Mary    Hype  2000000  5000000.0   Sold  2021-07-3"
      ]
     },
     "execution_count": 27,
     "metadata": {},
     "output_type": "execute_result"
    }
   ],
   "source": [
    "mongoDB_df = pd.DataFrame(mylist)\n",
    "mongoDB_df"
   ]
  },
  {
   "cell_type": "code",
   "execution_count": 29,
   "metadata": {},
   "outputs": [
    {
     "data": {
      "text/html": [
       "<div>\n",
       "<style scoped>\n",
       "    .dataframe tbody tr th:only-of-type {\n",
       "        vertical-align: middle;\n",
       "    }\n",
       "\n",
       "    .dataframe tbody tr th {\n",
       "        vertical-align: top;\n",
       "    }\n",
       "\n",
       "    .dataframe thead th {\n",
       "        text-align: right;\n",
       "    }\n",
       "</style>\n",
       "<table border=\"1\" class=\"dataframe\">\n",
       "  <thead>\n",
       "    <tr style=\"text-align: right;\">\n",
       "      <th></th>\n",
       "      <th>_id</th>\n",
       "      <th>name</th>\n",
       "      <th>product</th>\n",
       "      <th>amount</th>\n",
       "      <th>saleprice</th>\n",
       "      <th>status</th>\n",
       "      <th>date</th>\n",
       "      <th>total</th>\n",
       "    </tr>\n",
       "  </thead>\n",
       "  <tbody>\n",
       "    <tr>\n",
       "      <th>0</th>\n",
       "      <td>001</td>\n",
       "      <td>Winner Emeto</td>\n",
       "      <td>Laptop</td>\n",
       "      <td>1</td>\n",
       "      <td>1500.0</td>\n",
       "      <td>Sold</td>\n",
       "      <td>2021-07-8</td>\n",
       "      <td>1.500000e+03</td>\n",
       "    </tr>\n",
       "    <tr>\n",
       "      <th>1</th>\n",
       "      <td>002</td>\n",
       "      <td>Shoe</td>\n",
       "      <td>Shoe</td>\n",
       "      <td>200</td>\n",
       "      <td>3000.0</td>\n",
       "      <td>Sold</td>\n",
       "      <td>2021-07-4</td>\n",
       "      <td>6.000000e+05</td>\n",
       "    </tr>\n",
       "    <tr>\n",
       "      <th>2</th>\n",
       "      <td>003</td>\n",
       "      <td>Mercy</td>\n",
       "      <td>Shoe</td>\n",
       "      <td>3</td>\n",
       "      <td>3000.0</td>\n",
       "      <td>Sold</td>\n",
       "      <td>2021-07-2</td>\n",
       "      <td>9.000000e+03</td>\n",
       "    </tr>\n",
       "    <tr>\n",
       "      <th>3</th>\n",
       "      <td>004</td>\n",
       "      <td>Kate</td>\n",
       "      <td>Bag</td>\n",
       "      <td>3000</td>\n",
       "      <td>1000000.0</td>\n",
       "      <td>Sold</td>\n",
       "      <td>2021-07-1</td>\n",
       "      <td>3.000000e+09</td>\n",
       "    </tr>\n",
       "    <tr>\n",
       "      <th>4</th>\n",
       "      <td>005</td>\n",
       "      <td>Lilian</td>\n",
       "      <td>Hair</td>\n",
       "      <td>1500</td>\n",
       "      <td>1500000.0</td>\n",
       "      <td>Sold</td>\n",
       "      <td>2021-07-9</td>\n",
       "      <td>2.250000e+09</td>\n",
       "    </tr>\n",
       "    <tr>\n",
       "      <th>5</th>\n",
       "      <td>006</td>\n",
       "      <td>Mary</td>\n",
       "      <td>Hype</td>\n",
       "      <td>2000000</td>\n",
       "      <td>5000000.0</td>\n",
       "      <td>Sold</td>\n",
       "      <td>2021-07-3</td>\n",
       "      <td>1.000000e+13</td>\n",
       "    </tr>\n",
       "  </tbody>\n",
       "</table>\n",
       "</div>"
      ],
      "text/plain": [
       "   _id          name product   amount  saleprice status       date  \\\n",
       "0  001  Winner Emeto  Laptop        1     1500.0   Sold  2021-07-8   \n",
       "1  002          Shoe    Shoe      200     3000.0   Sold  2021-07-4   \n",
       "2  003         Mercy    Shoe        3     3000.0   Sold  2021-07-2   \n",
       "3  004          Kate     Bag     3000  1000000.0   Sold  2021-07-1   \n",
       "4  005        Lilian    Hair     1500  1500000.0   Sold  2021-07-9   \n",
       "5  006          Mary    Hype  2000000  5000000.0   Sold  2021-07-3   \n",
       "\n",
       "          total  \n",
       "0  1.500000e+03  \n",
       "1  6.000000e+05  \n",
       "2  9.000000e+03  \n",
       "3  3.000000e+09  \n",
       "4  2.250000e+09  \n",
       "5  1.000000e+13  "
      ]
     },
     "execution_count": 29,
     "metadata": {},
     "output_type": "execute_result"
    }
   ],
   "source": [
    "mongoDB_df['total'] = mongoDB_df['amount'] * mongoDB_df['saleprice']\n",
    "mongoDB_df"
   ]
  },
  {
   "cell_type": "markdown",
   "metadata": {},
   "source": [
    "# Pull Data Together"
   ]
  },
  {
   "cell_type": "code",
   "execution_count": 30,
   "metadata": {},
   "outputs": [
    {
     "data": {
      "text/html": [
       "<div>\n",
       "<style scoped>\n",
       "    .dataframe tbody tr th:only-of-type {\n",
       "        vertical-align: middle;\n",
       "    }\n",
       "\n",
       "    .dataframe tbody tr th {\n",
       "        vertical-align: top;\n",
       "    }\n",
       "\n",
       "    .dataframe thead th {\n",
       "        text-align: right;\n",
       "    }\n",
       "</style>\n",
       "<table border=\"1\" class=\"dataframe\">\n",
       "  <thead>\n",
       "    <tr style=\"text-align: right;\">\n",
       "      <th></th>\n",
       "      <th>id</th>\n",
       "      <th>name</th>\n",
       "      <th>status</th>\n",
       "      <th>salary</th>\n",
       "      <th>department</th>\n",
       "      <th>position</th>\n",
       "      <th>data</th>\n",
       "    </tr>\n",
       "  </thead>\n",
       "  <tbody>\n",
       "    <tr>\n",
       "      <th>0</th>\n",
       "      <td>1</td>\n",
       "      <td>winner</td>\n",
       "      <td>yes</td>\n",
       "      <td>400</td>\n",
       "      <td>hr</td>\n",
       "      <td>it</td>\n",
       "      <td>2021-07-7</td>\n",
       "    </tr>\n",
       "    <tr>\n",
       "      <th>1</th>\n",
       "      <td>2</td>\n",
       "      <td>Winner Emeto</td>\n",
       "      <td>Yes</td>\n",
       "      <td>5000</td>\n",
       "      <td>IT</td>\n",
       "      <td>MG</td>\n",
       "      <td>2021-07-8</td>\n",
       "    </tr>\n",
       "    <tr>\n",
       "      <th>2</th>\n",
       "      <td>3</td>\n",
       "      <td>Emeto Winner</td>\n",
       "      <td>YES</td>\n",
       "      <td>4500</td>\n",
       "      <td>IT</td>\n",
       "      <td>HR</td>\n",
       "      <td>2021-07-6</td>\n",
       "    </tr>\n",
       "    <tr>\n",
       "      <th>3</th>\n",
       "      <td>4</td>\n",
       "      <td>Lilian</td>\n",
       "      <td>YES</td>\n",
       "      <td>6000</td>\n",
       "      <td>HR</td>\n",
       "      <td>MG</td>\n",
       "      <td>2021-07-8</td>\n",
       "    </tr>\n",
       "    <tr>\n",
       "      <th>4</th>\n",
       "      <td>5</td>\n",
       "      <td>Kate</td>\n",
       "      <td>No</td>\n",
       "      <td>3000</td>\n",
       "      <td>HR</td>\n",
       "      <td>IT</td>\n",
       "      <td>2021-07-5</td>\n",
       "    </tr>\n",
       "    <tr>\n",
       "      <th>5</th>\n",
       "      <td>6</td>\n",
       "      <td>Mercy</td>\n",
       "      <td>NO</td>\n",
       "      <td>2000</td>\n",
       "      <td>HR</td>\n",
       "      <td>MG</td>\n",
       "      <td>2021-07-1</td>\n",
       "    </tr>\n",
       "    <tr>\n",
       "      <th>6</th>\n",
       "      <td>7</td>\n",
       "      <td>John</td>\n",
       "      <td>YES</td>\n",
       "      <td>1000</td>\n",
       "      <td>HR</td>\n",
       "      <td>IT</td>\n",
       "      <td>2021-07-3</td>\n",
       "    </tr>\n",
       "  </tbody>\n",
       "</table>\n",
       "</div>"
      ],
      "text/plain": [
       "   id          name status  salary department position       data\n",
       "0   1        winner    yes     400         hr       it  2021-07-7\n",
       "1   2  Winner Emeto    Yes    5000         IT       MG  2021-07-8\n",
       "2   3  Emeto Winner    YES    4500         IT       HR  2021-07-6\n",
       "3   4        Lilian    YES    6000         HR       MG  2021-07-8\n",
       "4   5          Kate     No    3000         HR       IT  2021-07-5\n",
       "5   6         Mercy     NO    2000         HR       MG  2021-07-1\n",
       "6   7          John    YES    1000         HR       IT  2021-07-3"
      ]
     },
     "execution_count": 30,
     "metadata": {},
     "output_type": "execute_result"
    }
   ],
   "source": [
    "mysql_df"
   ]
  },
  {
   "cell_type": "code",
   "execution_count": 31,
   "metadata": {},
   "outputs": [
    {
     "data": {
      "text/html": [
       "<div>\n",
       "<style scoped>\n",
       "    .dataframe tbody tr th:only-of-type {\n",
       "        vertical-align: middle;\n",
       "    }\n",
       "\n",
       "    .dataframe tbody tr th {\n",
       "        vertical-align: top;\n",
       "    }\n",
       "\n",
       "    .dataframe thead th {\n",
       "        text-align: right;\n",
       "    }\n",
       "</style>\n",
       "<table border=\"1\" class=\"dataframe\">\n",
       "  <thead>\n",
       "    <tr style=\"text-align: right;\">\n",
       "      <th></th>\n",
       "      <th>id</th>\n",
       "      <th>name</th>\n",
       "      <th>status</th>\n",
       "      <th>salary</th>\n",
       "      <th>department</th>\n",
       "      <th>position</th>\n",
       "      <th>data</th>\n",
       "    </tr>\n",
       "  </thead>\n",
       "  <tbody>\n",
       "    <tr>\n",
       "      <th>0</th>\n",
       "      <td>1</td>\n",
       "      <td>Winner Emeto</td>\n",
       "      <td>Yes</td>\n",
       "      <td>500.0</td>\n",
       "      <td>HR</td>\n",
       "      <td>MG</td>\n",
       "      <td>2021-07-8</td>\n",
       "    </tr>\n",
       "    <tr>\n",
       "      <th>1</th>\n",
       "      <td>2</td>\n",
       "      <td>Emeto Winner</td>\n",
       "      <td>NO</td>\n",
       "      <td>700.0</td>\n",
       "      <td>IT</td>\n",
       "      <td>HR</td>\n",
       "      <td>2021-07-8</td>\n",
       "    </tr>\n",
       "    <tr>\n",
       "      <th>2</th>\n",
       "      <td>3</td>\n",
       "      <td>Joy</td>\n",
       "      <td>Yes</td>\n",
       "      <td>1500.0</td>\n",
       "      <td>IT</td>\n",
       "      <td>IT</td>\n",
       "      <td>2021-07-9</td>\n",
       "    </tr>\n",
       "    <tr>\n",
       "      <th>3</th>\n",
       "      <td>4</td>\n",
       "      <td>Mercy</td>\n",
       "      <td>Yes</td>\n",
       "      <td>2000.0</td>\n",
       "      <td>HR</td>\n",
       "      <td>IT</td>\n",
       "      <td>2021-07-3</td>\n",
       "    </tr>\n",
       "    <tr>\n",
       "      <th>4</th>\n",
       "      <td>5</td>\n",
       "      <td>Kate</td>\n",
       "      <td>No</td>\n",
       "      <td>3000.0</td>\n",
       "      <td>HR</td>\n",
       "      <td>IT</td>\n",
       "      <td>2021-07-5</td>\n",
       "    </tr>\n",
       "  </tbody>\n",
       "</table>\n",
       "</div>"
      ],
      "text/plain": [
       "   id          name status  salary department position       data\n",
       "0   1  Winner Emeto    Yes   500.0         HR       MG  2021-07-8\n",
       "1   2  Emeto Winner     NO   700.0         IT       HR  2021-07-8\n",
       "2   3           Joy    Yes  1500.0         IT       IT  2021-07-9\n",
       "3   4         Mercy    Yes  2000.0         HR       IT  2021-07-3\n",
       "4   5          Kate     No  3000.0         HR       IT  2021-07-5"
      ]
     },
     "execution_count": 31,
     "metadata": {},
     "output_type": "execute_result"
    }
   ],
   "source": [
    "sqlite3_df"
   ]
  },
  {
   "cell_type": "code",
   "execution_count": 32,
   "metadata": {},
   "outputs": [
    {
     "data": {
      "text/html": [
       "<div>\n",
       "<style scoped>\n",
       "    .dataframe tbody tr th:only-of-type {\n",
       "        vertical-align: middle;\n",
       "    }\n",
       "\n",
       "    .dataframe tbody tr th {\n",
       "        vertical-align: top;\n",
       "    }\n",
       "\n",
       "    .dataframe thead th {\n",
       "        text-align: right;\n",
       "    }\n",
       "</style>\n",
       "<table border=\"1\" class=\"dataframe\">\n",
       "  <thead>\n",
       "    <tr style=\"text-align: right;\">\n",
       "      <th></th>\n",
       "      <th>_id</th>\n",
       "      <th>name</th>\n",
       "      <th>product</th>\n",
       "      <th>amount</th>\n",
       "      <th>saleprice</th>\n",
       "      <th>status</th>\n",
       "      <th>date</th>\n",
       "      <th>total</th>\n",
       "    </tr>\n",
       "  </thead>\n",
       "  <tbody>\n",
       "    <tr>\n",
       "      <th>0</th>\n",
       "      <td>001</td>\n",
       "      <td>Winner Emeto</td>\n",
       "      <td>Laptop</td>\n",
       "      <td>1</td>\n",
       "      <td>1500.0</td>\n",
       "      <td>Sold</td>\n",
       "      <td>2021-07-8</td>\n",
       "      <td>1.500000e+03</td>\n",
       "    </tr>\n",
       "    <tr>\n",
       "      <th>1</th>\n",
       "      <td>002</td>\n",
       "      <td>Shoe</td>\n",
       "      <td>Shoe</td>\n",
       "      <td>200</td>\n",
       "      <td>3000.0</td>\n",
       "      <td>Sold</td>\n",
       "      <td>2021-07-4</td>\n",
       "      <td>6.000000e+05</td>\n",
       "    </tr>\n",
       "    <tr>\n",
       "      <th>2</th>\n",
       "      <td>003</td>\n",
       "      <td>Mercy</td>\n",
       "      <td>Shoe</td>\n",
       "      <td>3</td>\n",
       "      <td>3000.0</td>\n",
       "      <td>Sold</td>\n",
       "      <td>2021-07-2</td>\n",
       "      <td>9.000000e+03</td>\n",
       "    </tr>\n",
       "    <tr>\n",
       "      <th>3</th>\n",
       "      <td>004</td>\n",
       "      <td>Kate</td>\n",
       "      <td>Bag</td>\n",
       "      <td>3000</td>\n",
       "      <td>1000000.0</td>\n",
       "      <td>Sold</td>\n",
       "      <td>2021-07-1</td>\n",
       "      <td>3.000000e+09</td>\n",
       "    </tr>\n",
       "    <tr>\n",
       "      <th>4</th>\n",
       "      <td>005</td>\n",
       "      <td>Lilian</td>\n",
       "      <td>Hair</td>\n",
       "      <td>1500</td>\n",
       "      <td>1500000.0</td>\n",
       "      <td>Sold</td>\n",
       "      <td>2021-07-9</td>\n",
       "      <td>2.250000e+09</td>\n",
       "    </tr>\n",
       "    <tr>\n",
       "      <th>5</th>\n",
       "      <td>006</td>\n",
       "      <td>Mary</td>\n",
       "      <td>Hype</td>\n",
       "      <td>2000000</td>\n",
       "      <td>5000000.0</td>\n",
       "      <td>Sold</td>\n",
       "      <td>2021-07-3</td>\n",
       "      <td>1.000000e+13</td>\n",
       "    </tr>\n",
       "  </tbody>\n",
       "</table>\n",
       "</div>"
      ],
      "text/plain": [
       "   _id          name product   amount  saleprice status       date  \\\n",
       "0  001  Winner Emeto  Laptop        1     1500.0   Sold  2021-07-8   \n",
       "1  002          Shoe    Shoe      200     3000.0   Sold  2021-07-4   \n",
       "2  003         Mercy    Shoe        3     3000.0   Sold  2021-07-2   \n",
       "3  004          Kate     Bag     3000  1000000.0   Sold  2021-07-1   \n",
       "4  005        Lilian    Hair     1500  1500000.0   Sold  2021-07-9   \n",
       "5  006          Mary    Hype  2000000  5000000.0   Sold  2021-07-3   \n",
       "\n",
       "          total  \n",
       "0  1.500000e+03  \n",
       "1  6.000000e+05  \n",
       "2  9.000000e+03  \n",
       "3  3.000000e+09  \n",
       "4  2.250000e+09  \n",
       "5  1.000000e+13  "
      ]
     },
     "execution_count": 32,
     "metadata": {},
     "output_type": "execute_result"
    }
   ],
   "source": [
    "mongoDB_df"
   ]
  },
  {
   "cell_type": "markdown",
   "metadata": {},
   "source": [
    "# Creating a Data Warehouse (Using MySQL)"
   ]
  },
  {
   "cell_type": "code",
   "execution_count": 34,
   "metadata": {},
   "outputs": [],
   "source": [
    "# Connecting to MySQL Server\n",
    "mydb = mysql.connector.connect(host=\"localhost\",user=\"root\",password=\"\")"
   ]
  },
  {
   "cell_type": "code",
   "execution_count": 35,
   "metadata": {},
   "outputs": [],
   "source": [
    "# Creating a Cursor object for ex\n",
    "cursor = mydb.cursor()"
   ]
  },
  {
   "cell_type": "code",
   "execution_count": 36,
   "metadata": {},
   "outputs": [],
   "source": [
    "# Creating Datawarehouse in MySQL\n",
    "cursor.execute(\"CREATE DATABASE datawarehouse\")"
   ]
  },
  {
   "cell_type": "code",
   "execution_count": 37,
   "metadata": {},
   "outputs": [],
   "source": [
    "# Connecting to MySQL Server Datawarehouse\n",
    "mydb = mysql.connector.connect(host=\"localhost\",user=\"root\",password=\"\",database='datawarehouse')"
   ]
  },
  {
   "cell_type": "code",
   "execution_count": 38,
   "metadata": {},
   "outputs": [],
   "source": [
    "# Creating a Cursor object for Datawarehouse\n",
    "cursor = mydb.cursor()"
   ]
  },
  {
   "cell_type": "markdown",
   "metadata": {},
   "source": [
    "# LOAD FUNCTIONS"
   ]
  },
  {
   "cell_type": "code",
   "execution_count": 85,
   "metadata": {},
   "outputs": [],
   "source": [
    "def create_table(table_name):\n",
    "    cursor.execute(f\"CREATE TABLE {table_name} (id INT AUTO_INCREMENT PRIMARY KEY, name VARCHAR(255), status VARCHAR(255), salary INT, department VARCHAR(255), position VARCHAR(255), high_date VARCHAR(255))\")\n",
    "    mydb.commit()"
   ]
  },
  {
   "cell_type": "code",
   "execution_count": 91,
   "metadata": {},
   "outputs": [],
   "source": [
    "def convert_dataframe(dataframe):\n",
    "    data_dict = dataframe.to_dict()\n",
    "    return data_dict"
   ]
  },
  {
   "cell_type": "code",
   "execution_count": 95,
   "metadata": {},
   "outputs": [],
   "source": [
    "def insert_query(table):\n",
    "    sql = f\"INSERT INTO {table}(name,status,salary,department,position,high_date) VALUES(%s,%s,%s,%s,%s,%s)\"\n",
    "    return sql"
   ]
  },
  {
   "cell_type": "code",
   "execution_count": 97,
   "metadata": {},
   "outputs": [],
   "source": [
    "def load(data_dict,sql):\n",
    "    counter = len(data_dict[\"name\"].values())-1\n",
    "\n",
    "    while counter >= 0:\n",
    "        global name\n",
    "        name = data_dict['name'][counter]\n",
    "        global status\n",
    "        status = data_dict['status'][counter]\n",
    "        global salary\n",
    "        salary = data_dict['salary'][counter]\n",
    "        global department\n",
    "        department = data_dict['department'][counter]\n",
    "        global position\n",
    "        position = data_dict['position'][counter]\n",
    "        global date\n",
    "        date = data_dict['data'][counter]\n",
    "        vals = (name,status,salary,department,position,date)\n",
    "        cursor.execute(sql,vals)\n",
    "        mydb.commit()\n",
    "\n",
    "        counter -= 1\n",
    "        if counter == 0:\n",
    "            print(\"All data has been inserted!!!\")"
   ]
  },
  {
   "cell_type": "markdown",
   "metadata": {},
   "source": [
    "# LOAD FUNCTIONS FOR MongoDB"
   ]
  },
  {
   "cell_type": "code",
   "execution_count": 99,
   "metadata": {},
   "outputs": [],
   "source": [
    "def create_table_mdb(table_name):\n",
    "    cursor.execute(f\"CREATE TABLE {table_name} (id INT AUTO_INCREMENT PRIMARY KEY, name VARCHAR(255), product VARCHAR(255), amount INT, saleprice INT, status VARCHAR(255), date VARCHAR(255), total VARCHAR(255))\")\n",
    "    mydb.commit()"
   ]
  },
  {
   "cell_type": "code",
   "execution_count": 100,
   "metadata": {},
   "outputs": [],
   "source": [
    "def insert_query_mdb(table):\n",
    "    sql = f\"INSERT INTO {table}(name,product,amount,saleprice,status,date,total) VALUES(%s,%s,%s,%s,%s,%s,%s)\"\n",
    "    return sql"
   ]
  },
  {
   "cell_type": "code",
   "execution_count": 108,
   "metadata": {},
   "outputs": [],
   "source": [
    "def load_mdb(data_dict,sql):\n",
    "    counter = len(data_dict[\"name\"].values())-1\n",
    "\n",
    "    while counter >= 0:\n",
    "        global name\n",
    "        name = data_dict['name'][counter]\n",
    "        global product\n",
    "        product = data_dict['product'][counter]\n",
    "        global amount\n",
    "        amount = data_dict['amount'][counter]\n",
    "        global saleprice\n",
    "        saleprice = data_dict['saleprice'][counter]\n",
    "        global status\n",
    "        status = data_dict['status'][counter]\n",
    "        global date\n",
    "        date = data_dict['date'][counter]\n",
    "        global total\n",
    "        total = data_dict['total'][counter]\n",
    "        vals = (name,product,amount,saleprice,status,date,total)\n",
    "        cursor.execute(sql,vals)\n",
    "        mydb.commit()\n",
    "\n",
    "        counter -= 1\n",
    "        if counter == 0:\n",
    "            print(\"All data has been inserted!!!\")"
   ]
  },
  {
   "cell_type": "markdown",
   "metadata": {},
   "source": [
    "# MySQL Table in Datawarehouse to store MySQL data source"
   ]
  },
  {
   "cell_type": "code",
   "execution_count": null,
   "metadata": {},
   "outputs": [],
   "source": [
    "create_table(\"IT\")"
   ]
  },
  {
   "cell_type": "code",
   "execution_count": 80,
   "metadata": {},
   "outputs": [
    {
     "data": {
      "text/plain": [
       "{'name': {0: 'winner',\n",
       "  1: 'Winner Emeto',\n",
       "  2: 'Emeto Winner',\n",
       "  3: 'Lilian',\n",
       "  4: 'Kate',\n",
       "  5: 'Mercy',\n",
       "  6: 'John'},\n",
       " 'status': {0: 'yes',\n",
       "  1: 'Yes',\n",
       "  2: 'YES',\n",
       "  3: 'YES',\n",
       "  4: 'No',\n",
       "  5: 'NO',\n",
       "  6: 'YES'},\n",
       " 'salary': {0: 400, 1: 5000, 2: 4500, 3: 6000, 4: 3000, 5: 2000, 6: 1000},\n",
       " 'department': {0: 'hr', 1: 'IT', 2: 'IT', 3: 'HR', 4: 'HR', 5: 'HR', 6: 'HR'},\n",
       " 'position': {0: 'it', 1: 'MG', 2: 'HR', 3: 'MG', 4: 'IT', 5: 'MG', 6: 'IT'},\n",
       " 'data': {0: '2021-07-7',\n",
       "  1: '2021-07-8',\n",
       "  2: '2021-07-6',\n",
       "  3: '2021-07-8',\n",
       "  4: '2021-07-5',\n",
       "  5: '2021-07-1',\n",
       "  6: '2021-07-3'}}"
      ]
     },
     "execution_count": 80,
     "metadata": {},
     "output_type": "execute_result"
    }
   ],
   "source": [
    "mysql_dict = convert_dataframe(mysql_df)\n",
    "mysql_dict.pop('id')\n",
    "mysql_dict"
   ]
  },
  {
   "cell_type": "code",
   "execution_count": null,
   "metadata": {},
   "outputs": [],
   "source": [
    "sql = insert_query(\"IT\")\n",
    "load(mysql_dict,sql)"
   ]
  },
  {
   "cell_type": "markdown",
   "metadata": {},
   "source": [
    "# SQLITE3 Table in Datawarehouse to store SQLite3 data source"
   ]
  },
  {
   "cell_type": "code",
   "execution_count": 86,
   "metadata": {},
   "outputs": [],
   "source": [
    "create_table(\"HR\")"
   ]
  },
  {
   "cell_type": "code",
   "execution_count": 93,
   "metadata": {},
   "outputs": [
    {
     "data": {
      "text/plain": [
       "{'name': {0: 'Winner Emeto',\n",
       "  1: 'Emeto Winner',\n",
       "  2: 'Joy',\n",
       "  3: 'Mercy',\n",
       "  4: 'Kate'},\n",
       " 'status': {0: 'Yes', 1: 'NO', 2: 'Yes', 3: 'Yes', 4: 'No'},\n",
       " 'salary': {0: 500.0, 1: 700.0, 2: 1500.0, 3: 2000.0, 4: 3000.0},\n",
       " 'department': {0: 'HR', 1: 'IT', 2: 'IT', 3: 'HR', 4: 'HR'},\n",
       " 'position': {0: 'MG', 1: 'HR', 2: 'IT', 3: 'IT', 4: 'IT'},\n",
       " 'data': {0: '2021-07-8',\n",
       "  1: '2021-07-8',\n",
       "  2: '2021-07-9',\n",
       "  3: '2021-07-3',\n",
       "  4: '2021-07-5'}}"
      ]
     },
     "execution_count": 93,
     "metadata": {},
     "output_type": "execute_result"
    }
   ],
   "source": [
    "sqlite3_dict = convert_dataframe(sqlite3_df)\n",
    "sqlite3_dict.pop(\"id\")\n",
    "sqlite3_dict"
   ]
  },
  {
   "cell_type": "code",
   "execution_count": 96,
   "metadata": {},
   "outputs": [
    {
     "name": "stdout",
     "output_type": "stream",
     "text": [
      "All data has been inserted!!!\n"
     ]
    }
   ],
   "source": [
    "sql = insert_query(\"HR\")\n",
    "load(sqlite3_dict,sql)"
   ]
  },
  {
   "cell_type": "markdown",
   "metadata": {},
   "source": [
    "# MongoDB Table in Datawarehouse to store MongoDB data source"
   ]
  },
  {
   "cell_type": "code",
   "execution_count": 102,
   "metadata": {},
   "outputs": [],
   "source": [
    "create_table_mdb(\"transactions\")"
   ]
  },
  {
   "cell_type": "code",
   "execution_count": 105,
   "metadata": {},
   "outputs": [
    {
     "data": {
      "text/plain": [
       "{'name': {0: 'Winner Emeto',\n",
       "  1: 'Shoe',\n",
       "  2: 'Mercy',\n",
       "  3: 'Kate',\n",
       "  4: 'Lilian',\n",
       "  5: 'Mary'},\n",
       " 'product': {0: 'Laptop',\n",
       "  1: 'Shoe',\n",
       "  2: 'Shoe',\n",
       "  3: 'Bag',\n",
       "  4: 'Hair',\n",
       "  5: 'Hype'},\n",
       " 'amount': {0: 1, 1: 200, 2: 3, 3: 3000, 4: 1500, 5: 2000000},\n",
       " 'saleprice': {0: 1500.0,\n",
       "  1: 3000.0,\n",
       "  2: 3000.0,\n",
       "  3: 1000000.0,\n",
       "  4: 1500000.0,\n",
       "  5: 5000000.0},\n",
       " 'status': {0: 'Sold', 1: 'Sold', 2: 'Sold', 3: 'Sold', 4: 'Sold', 5: 'Sold'},\n",
       " 'date': {0: '2021-07-8',\n",
       "  1: '2021-07-4',\n",
       "  2: '2021-07-2',\n",
       "  3: '2021-07-1',\n",
       "  4: '2021-07-9',\n",
       "  5: '2021-07-3'},\n",
       " 'total': {0: 1500.0,\n",
       "  1: 600000.0,\n",
       "  2: 9000.0,\n",
       "  3: 3000000000.0,\n",
       "  4: 2250000000.0,\n",
       "  5: 10000000000000.0}}"
      ]
     },
     "execution_count": 105,
     "metadata": {},
     "output_type": "execute_result"
    }
   ],
   "source": [
    "mongodb_dict = convert_dataframe(mongoDB_df)\n",
    "mongodb_dict.pop(\"_id\")\n",
    "mongodb_dict"
   ]
  },
  {
   "cell_type": "code",
   "execution_count": 109,
   "metadata": {},
   "outputs": [
    {
     "name": "stdout",
     "output_type": "stream",
     "text": [
      "All data has been inserted!!!\n"
     ]
    }
   ],
   "source": [
    "sql = insert_query_mdb(\"transactions\")\n",
    "load_mdb(mongodb_dict,sql)"
   ]
  },
  {
   "cell_type": "code",
   "execution_count": null,
   "metadata": {},
   "outputs": [],
   "source": []
  }
 ],
 "metadata": {
  "kernelspec": {
   "display_name": "Python 3",
   "language": "python",
   "name": "python3"
  },
  "language_info": {
   "codemirror_mode": {
    "name": "ipython",
    "version": 3
   },
   "file_extension": ".py",
   "mimetype": "text/x-python",
   "name": "python",
   "nbconvert_exporter": "python",
   "pygments_lexer": "ipython3",
   "version": "3.8.5"
  }
 },
 "nbformat": 4,
 "nbformat_minor": 4
}
